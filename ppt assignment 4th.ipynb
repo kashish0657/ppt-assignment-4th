{
 "cells": [
  {
   "cell_type": "markdown",
   "id": "7e8da096-1466-4461-b0d1-e3b0d4cf9928",
   "metadata": {},
   "source": [
    "## PPT ASSIGNMENT 4TH"
   ]
  },
  {
   "cell_type": "markdown",
   "id": "9ee4a4f1-d161-446f-8346-2ee90c83d555",
   "metadata": {},
   "source": [
    "## 1:ans:-"
   ]
  },
  {
   "cell_type": "code",
   "execution_count": 1,
   "id": "0b6bf699-4d16-4b21-997f-3f922c0f7d37",
   "metadata": {},
   "outputs": [],
   "source": [
    "def common_elements(arr1, arr2, arr3):\n",
    "    result = []\n",
    "    i = j = k = 0\n",
    "\n",
    "    # Iterate until one of the arrays reaches its end\n",
    "    while i < len(arr1) and j < len(arr2) and k < len(arr3):\n",
    "        # If the current element is common to all three arrays\n",
    "        if arr1[i] == arr2[j] == arr3[k]:\n",
    "            result.append(arr1[i])\n",
    "            i += 1\n",
    "            j += 1\n",
    "            k += 1\n",
    "        # If the current element is smaller, move to the next element in the corresponding array\n",
    "        elif arr1[i] < arr2[j]:\n",
    "            i += 1\n",
    "        elif arr2[j] < arr3[k]:\n",
    "            j += 1\n",
    "        else:\n",
    "            k += 1\n",
    "\n",
    "    return result\n"
   ]
  },
  {
   "cell_type": "code",
   "execution_count": 2,
   "id": "d1900a09-b54a-4a7a-8c81-791a84df5cb2",
   "metadata": {},
   "outputs": [
    {
     "name": "stdout",
     "output_type": "stream",
     "text": [
      "[3, 4, 6]\n"
     ]
    }
   ],
   "source": [
    "arr1 = [1, 2, 2, 3, 4, 5, 6]\n",
    "arr2 = [2, 3, 4, 4, 6, 7, 8]\n",
    "arr3 = [3, 4, 4, 5, 6, 9, 10]\n",
    "\n",
    "result = common_elements(arr1, arr2, arr3)\n",
    "print(result)\n"
   ]
  },
  {
   "cell_type": "markdown",
   "id": "6e42e3ca-39c8-4f94-aea0-03e617e1f155",
   "metadata": {},
   "source": [
    "## 2:ans:-"
   ]
  },
  {
   "cell_type": "code",
   "execution_count": 3,
   "id": "b514b542-4e9b-4745-8d10-b06fc2a33f15",
   "metadata": {},
   "outputs": [],
   "source": [
    "def find_disinct_integers(nums1, nums2):\n",
    "    distinct_nums1 = set(nums1) - set(nums2)\n",
    "    distinct_nums2 = set(nums2) - set(nums1)\n",
    "    return [list(distinct_nums1), list(distinct_nums2)]\n"
   ]
  },
  {
   "cell_type": "code",
   "execution_count": 4,
   "id": "d3a4bef8-001f-4376-9c3b-54c4e6654354",
   "metadata": {},
   "outputs": [
    {
     "name": "stdout",
     "output_type": "stream",
     "text": [
      "[[1, 2], [6, 7]]\n"
     ]
    }
   ],
   "source": [
    "nums1 = [1, 2, 3, 4, 5]\n",
    "nums2 = [3, 4, 5, 6, 7]\n",
    "answer = find_disinct_integers(nums1, nums2)\n",
    "print(answer)\n"
   ]
  },
  {
   "cell_type": "markdown",
   "id": "bcab82b8-ab32-4eaa-b53e-81bce0ffcbcb",
   "metadata": {},
   "source": [
    "## 3:ans:-"
   ]
  },
  {
   "cell_type": "code",
   "execution_count": 5,
   "id": "710d0ac7-d8f5-4bf3-8232-941beb8b923b",
   "metadata": {},
   "outputs": [],
   "source": [
    "def transpose(matrix):\n",
    "    # Get the number of rows and columns in the matrix\n",
    "    rows = len(matrix)\n",
    "    cols = len(matrix[0])\n",
    "\n",
    "    # Create a new matrix with switched dimensions\n",
    "    transposed = [[0 for _ in range(rows)] for _ in range(cols)]\n",
    "\n",
    "    # Copy values from the original matrix to the transposed matrix\n",
    "    for i in range(rows):\n",
    "        for j in range(cols):\n",
    "            transposed[j][i] = matrix[i][j]\n",
    "\n",
    "    return transposed\n"
   ]
  },
  {
   "cell_type": "code",
   "execution_count": 6,
   "id": "e49047b7-8937-4feb-9f89-d95b6ad5a193",
   "metadata": {},
   "outputs": [
    {
     "name": "stdout",
     "output_type": "stream",
     "text": [
      "[[1, 4], [2, 5], [3, 6]]\n"
     ]
    }
   ],
   "source": [
    "matrix = [[1, 2, 3], [4, 5, 6]]\n",
    "transposed_matrix = transpose(matrix)\n",
    "print(transposed_matrix)\n"
   ]
  },
  {
   "cell_type": "markdown",
   "id": "141f8364-0f4e-4d96-9040-90be84000be4",
   "metadata": {},
   "source": [
    "## 4:ans:-"
   ]
  },
  {
   "cell_type": "code",
   "execution_count": 9,
   "id": "7a6d61c0-bac7-4d48-9c44-b42db76e1ac4",
   "metadata": {},
   "outputs": [],
   "source": [
    "def arrayPairSum(nums):\n",
    "    nums.sort()  # Step 1\n",
    "    max_sum = 0  # Step 2\n",
    "    \n",
    "    for i in range(0, len(nums), 2):  # Step 3\n",
    "        max_sum += nums[i]\n",
    "    \n",
    "    return max_sum  # Step 4\n"
   ]
  },
  {
   "cell_type": "code",
   "execution_count": 10,
   "id": "e030dee7-82dc-472a-923e-a3c269cb75d0",
   "metadata": {},
   "outputs": [
    {
     "name": "stdout",
     "output_type": "stream",
     "text": [
      "4\n"
     ]
    }
   ],
   "source": [
    "nums = [1, 4, 3, 2]\n",
    "result = arrayPairSum(nums)\n",
    "print(result)  \n"
   ]
  },
  {
   "cell_type": "markdown",
   "id": "063cc5e5-fe70-4e95-88c0-37d2ba480405",
   "metadata": {},
   "source": [
    "## 5:ans:-"
   ]
  },
  {
   "cell_type": "code",
   "execution_count": 13,
   "id": "a61fc9a2-14ea-49c9-9cee-df4d6ce19839",
   "metadata": {},
   "outputs": [],
   "source": [
    "def find_complete_rows(n):\n",
    "    sum = 0\n",
    "    max_complete_rows = 0\n",
    "    i = 1\n",
    "\n",
    "    while sum <= n:\n",
    "        sum += i\n",
    "        max_complete_rows = i\n",
    "        i += 1\n",
    "\n",
    "    return max_complete_rows\n"
   ]
  },
  {
   "cell_type": "code",
   "execution_count": 14,
   "id": "353def75-e6c6-4d3a-8942-9c8f6261bd76",
   "metadata": {},
   "outputs": [
    {
     "name": "stdout",
     "output_type": "stream",
     "text": [
      "6\n"
     ]
    }
   ],
   "source": [
    "n = 15\n",
    "complete_rows = find_complete_rows(n)\n",
    "print(complete_rows)  \n"
   ]
  },
  {
   "cell_type": "markdown",
   "id": "d7d7bd5c-215d-40c3-9535-d17b1a644f37",
   "metadata": {},
   "source": [
    "## 6:ans:-"
   ]
  },
  {
   "cell_type": "code",
   "execution_count": 15,
   "id": "136b3ecd-8148-46e4-8a5b-609fc65c44f2",
   "metadata": {},
   "outputs": [],
   "source": [
    "def sortedSquares(nums):\n",
    "    result = [0] * len(nums)\n",
    "    left, right = 0, len(nums) - 1\n",
    "    for i in range(len(nums) - 1, -1, -1):\n",
    "        if abs(nums[left]) >= abs(nums[right]):\n",
    "            result[i] = nums[left] ** 2\n",
    "            left += 1\n",
    "        else:\n",
    "            result[i] = nums[right] ** 2\n",
    "            right -= 1\n",
    "    return result\n"
   ]
  },
  {
   "cell_type": "code",
   "execution_count": 16,
   "id": "e7e2c0bc-f1ff-48ed-b338-38095629af39",
   "metadata": {},
   "outputs": [
    {
     "name": "stdout",
     "output_type": "stream",
     "text": [
      "[0, 4, 9, 16, 25]\n"
     ]
    }
   ],
   "source": [
    "nums = [-4, -2, 0, 3, 5]\n",
    "print(sortedSquares(nums))\n"
   ]
  },
  {
   "cell_type": "markdown",
   "id": "9a7e09b0-0ad3-481c-ae98-cee0308a646a",
   "metadata": {},
   "source": [
    "## 7:ans:-"
   ]
  },
  {
   "cell_type": "code",
   "execution_count": null,
   "id": "0d4eed22-4d89-4a98-9adb-42670f4f5a5a",
   "metadata": {},
   "outputs": [],
   "source": [
    "def maxCount(m: int, n: int, ops: List[List[int]]) -> int:\n",
    "    if not ops:\n",
    "        return m * n\n",
    "    \n",
    "    min_x = min(op[0] for op in ops)\n",
    "    min_y = min(op[1] for op in ops)\n",
    "    \n",
    "    return min_x * min_y\n"
   ]
  },
  {
   "cell_type": "markdown",
   "id": "26880104-1b89-4fd8-8d35-47855f5475bf",
   "metadata": {},
   "source": [
    "## 8:ans:-"
   ]
  },
  {
   "cell_type": "code",
   "execution_count": null,
   "id": "c4a25218-204a-4395-9e2d-626ec4fdc70a",
   "metadata": {},
   "outputs": [],
   "source": []
  }
 ],
 "metadata": {
  "kernelspec": {
   "display_name": "Python 3 (ipykernel)",
   "language": "python",
   "name": "python3"
  },
  "language_info": {
   "codemirror_mode": {
    "name": "ipython",
    "version": 3
   },
   "file_extension": ".py",
   "mimetype": "text/x-python",
   "name": "python",
   "nbconvert_exporter": "python",
   "pygments_lexer": "ipython3",
   "version": "3.10.8"
  }
 },
 "nbformat": 4,
 "nbformat_minor": 5
}
